{
 "cells": [
  {
   "cell_type": "code",
   "execution_count": 1,
   "id": "fa092539",
   "metadata": {},
   "outputs": [],
   "source": [
    "from sklearn.model_selection import KFold , StratifiedKFold\n",
    "import pandas as pd\n",
    "import numpy as np\n",
    "import seaborn as sns\n",
    "import matplotlib.pyplot as plt\n",
    "from sklearn.preprocessing import StandardScaler\n",
    "from sklearn.cluster import KMeans\n",
    "from sklearn.decomposition import PCA\n",
    "from sklearn.model_selection import train_test_split\n",
    "from sklearn.linear_model import LinearRegression\n",
    "from sklearn.model_selection import cross_val_score\n",
    "from sklearn.metrics import confusion_matrix\n",
    "from sklearn.metrics import accuracy_score\n",
    "import statsmodels.api as sm\n",
    "from sklearn.model_selection import learning_curve\n",
    "from sklearn.neighbors import KNeighborsClassifier\n",
    "from sklearn import metrics\n",
    "from sklearn.ensemble import RandomForestRegressor\n",
    "from sklearn.feature_selection import SelectKBest , chi2\n",
    "import pickle"
   ]
  },
  {
   "cell_type": "code",
   "execution_count": 2,
   "id": "667b9e64",
   "metadata": {},
   "outputs": [],
   "source": [
    "# This is the notebook_predict used for score prediction :)"
   ]
  },
  {
   "cell_type": "code",
   "execution_count": 3,
   "id": "03aab507",
   "metadata": {},
   "outputs": [],
   "source": [
    "# lets start ols"
   ]
  },
  {
   "cell_type": "code",
   "execution_count": 4,
   "id": "1e91c639",
   "metadata": {},
   "outputs": [
    {
     "data": {
      "text/html": [
       "<div>\n",
       "<style scoped>\n",
       "    .dataframe tbody tr th:only-of-type {\n",
       "        vertical-align: middle;\n",
       "    }\n",
       "\n",
       "    .dataframe tbody tr th {\n",
       "        vertical-align: top;\n",
       "    }\n",
       "\n",
       "    .dataframe thead th {\n",
       "        text-align: right;\n",
       "    }\n",
       "</style>\n",
       "<table border=\"1\" class=\"dataframe\">\n",
       "  <thead>\n",
       "    <tr style=\"text-align: right;\">\n",
       "      <th></th>\n",
       "      <th>longitude</th>\n",
       "      <th>latitude</th>\n",
       "      <th>housing_median_age</th>\n",
       "      <th>total_rooms</th>\n",
       "      <th>total_bedrooms</th>\n",
       "      <th>population</th>\n",
       "      <th>households</th>\n",
       "      <th>median_income</th>\n",
       "      <th>median_house_value</th>\n",
       "      <th>ocean_proximity</th>\n",
       "    </tr>\n",
       "  </thead>\n",
       "  <tbody>\n",
       "    <tr>\n",
       "      <th>0</th>\n",
       "      <td>-119.84</td>\n",
       "      <td>36.77</td>\n",
       "      <td>6.0</td>\n",
       "      <td>1853.0</td>\n",
       "      <td>473.0</td>\n",
       "      <td>1397.0</td>\n",
       "      <td>417.0</td>\n",
       "      <td>1.4817</td>\n",
       "      <td>72000.0</td>\n",
       "      <td>INLAND</td>\n",
       "    </tr>\n",
       "    <tr>\n",
       "      <th>1</th>\n",
       "      <td>-117.80</td>\n",
       "      <td>33.68</td>\n",
       "      <td>8.0</td>\n",
       "      <td>2032.0</td>\n",
       "      <td>349.0</td>\n",
       "      <td>862.0</td>\n",
       "      <td>340.0</td>\n",
       "      <td>6.9133</td>\n",
       "      <td>274100.0</td>\n",
       "      <td>&lt;1H OCEAN</td>\n",
       "    </tr>\n",
       "    <tr>\n",
       "      <th>2</th>\n",
       "      <td>-120.19</td>\n",
       "      <td>36.60</td>\n",
       "      <td>25.0</td>\n",
       "      <td>875.0</td>\n",
       "      <td>214.0</td>\n",
       "      <td>931.0</td>\n",
       "      <td>214.0</td>\n",
       "      <td>1.5536</td>\n",
       "      <td>58300.0</td>\n",
       "      <td>INLAND</td>\n",
       "    </tr>\n",
       "    <tr>\n",
       "      <th>3</th>\n",
       "      <td>-118.32</td>\n",
       "      <td>34.10</td>\n",
       "      <td>31.0</td>\n",
       "      <td>622.0</td>\n",
       "      <td>229.0</td>\n",
       "      <td>597.0</td>\n",
       "      <td>227.0</td>\n",
       "      <td>1.5284</td>\n",
       "      <td>200000.0</td>\n",
       "      <td>&lt;1H OCEAN</td>\n",
       "    </tr>\n",
       "    <tr>\n",
       "      <th>4</th>\n",
       "      <td>-121.23</td>\n",
       "      <td>37.79</td>\n",
       "      <td>21.0</td>\n",
       "      <td>1922.0</td>\n",
       "      <td>373.0</td>\n",
       "      <td>1130.0</td>\n",
       "      <td>372.0</td>\n",
       "      <td>4.0815</td>\n",
       "      <td>117900.0</td>\n",
       "      <td>INLAND</td>\n",
       "    </tr>\n",
       "    <tr>\n",
       "      <th>...</th>\n",
       "      <td>...</td>\n",
       "      <td>...</td>\n",
       "      <td>...</td>\n",
       "      <td>...</td>\n",
       "      <td>...</td>\n",
       "      <td>...</td>\n",
       "      <td>...</td>\n",
       "      <td>...</td>\n",
       "      <td>...</td>\n",
       "      <td>...</td>\n",
       "    </tr>\n",
       "    <tr>\n",
       "      <th>16331</th>\n",
       "      <td>-121.90</td>\n",
       "      <td>39.59</td>\n",
       "      <td>20.0</td>\n",
       "      <td>1465.0</td>\n",
       "      <td>278.0</td>\n",
       "      <td>745.0</td>\n",
       "      <td>250.0</td>\n",
       "      <td>3.0625</td>\n",
       "      <td>93800.0</td>\n",
       "      <td>INLAND</td>\n",
       "    </tr>\n",
       "    <tr>\n",
       "      <th>16332</th>\n",
       "      <td>-122.25</td>\n",
       "      <td>38.11</td>\n",
       "      <td>49.0</td>\n",
       "      <td>2365.0</td>\n",
       "      <td>504.0</td>\n",
       "      <td>1131.0</td>\n",
       "      <td>458.0</td>\n",
       "      <td>2.6133</td>\n",
       "      <td>103100.0</td>\n",
       "      <td>NEAR BAY</td>\n",
       "    </tr>\n",
       "    <tr>\n",
       "      <th>16333</th>\n",
       "      <td>-121.22</td>\n",
       "      <td>38.92</td>\n",
       "      <td>19.0</td>\n",
       "      <td>2531.0</td>\n",
       "      <td>461.0</td>\n",
       "      <td>1206.0</td>\n",
       "      <td>429.0</td>\n",
       "      <td>4.4958</td>\n",
       "      <td>192600.0</td>\n",
       "      <td>INLAND</td>\n",
       "    </tr>\n",
       "    <tr>\n",
       "      <th>16334</th>\n",
       "      <td>-118.14</td>\n",
       "      <td>34.16</td>\n",
       "      <td>39.0</td>\n",
       "      <td>2776.0</td>\n",
       "      <td>840.0</td>\n",
       "      <td>2546.0</td>\n",
       "      <td>773.0</td>\n",
       "      <td>2.5750</td>\n",
       "      <td>153500.0</td>\n",
       "      <td>&lt;1H OCEAN</td>\n",
       "    </tr>\n",
       "    <tr>\n",
       "      <th>16335</th>\n",
       "      <td>-124.13</td>\n",
       "      <td>40.80</td>\n",
       "      <td>31.0</td>\n",
       "      <td>2152.0</td>\n",
       "      <td>462.0</td>\n",
       "      <td>1259.0</td>\n",
       "      <td>420.0</td>\n",
       "      <td>2.2478</td>\n",
       "      <td>81100.0</td>\n",
       "      <td>NEAR OCEAN</td>\n",
       "    </tr>\n",
       "  </tbody>\n",
       "</table>\n",
       "<p>16336 rows × 10 columns</p>\n",
       "</div>"
      ],
      "text/plain": [
       "       longitude  latitude  housing_median_age  total_rooms  total_bedrooms  \\\n",
       "0        -119.84     36.77                 6.0       1853.0           473.0   \n",
       "1        -117.80     33.68                 8.0       2032.0           349.0   \n",
       "2        -120.19     36.60                25.0        875.0           214.0   \n",
       "3        -118.32     34.10                31.0        622.0           229.0   \n",
       "4        -121.23     37.79                21.0       1922.0           373.0   \n",
       "...          ...       ...                 ...          ...             ...   \n",
       "16331    -121.90     39.59                20.0       1465.0           278.0   \n",
       "16332    -122.25     38.11                49.0       2365.0           504.0   \n",
       "16333    -121.22     38.92                19.0       2531.0           461.0   \n",
       "16334    -118.14     34.16                39.0       2776.0           840.0   \n",
       "16335    -124.13     40.80                31.0       2152.0           462.0   \n",
       "\n",
       "       population  households  median_income  median_house_value  \\\n",
       "0          1397.0       417.0         1.4817             72000.0   \n",
       "1           862.0       340.0         6.9133            274100.0   \n",
       "2           931.0       214.0         1.5536             58300.0   \n",
       "3           597.0       227.0         1.5284            200000.0   \n",
       "4          1130.0       372.0         4.0815            117900.0   \n",
       "...           ...         ...            ...                 ...   \n",
       "16331       745.0       250.0         3.0625             93800.0   \n",
       "16332      1131.0       458.0         2.6133            103100.0   \n",
       "16333      1206.0       429.0         4.4958            192600.0   \n",
       "16334      2546.0       773.0         2.5750            153500.0   \n",
       "16335      1259.0       420.0         2.2478             81100.0   \n",
       "\n",
       "      ocean_proximity  \n",
       "0              INLAND  \n",
       "1           <1H OCEAN  \n",
       "2              INLAND  \n",
       "3           <1H OCEAN  \n",
       "4              INLAND  \n",
       "...               ...  \n",
       "16331          INLAND  \n",
       "16332        NEAR BAY  \n",
       "16333          INLAND  \n",
       "16334       <1H OCEAN  \n",
       "16335      NEAR OCEAN  \n",
       "\n",
       "[16336 rows x 10 columns]"
      ]
     },
     "execution_count": 4,
     "metadata": {},
     "output_type": "execute_result"
    }
   ],
   "source": [
    "df = pd.read_csv(\"C:/Users/edenl/Desktop/ia_coding/agent_immobilier_sillicon_valley/silicon_valley_good_data.csv\")\n",
    "df\n"
   ]
  },
  {
   "cell_type": "code",
   "execution_count": 15,
   "id": "ea5dc02b",
   "metadata": {},
   "outputs": [],
   "source": [
    "\n",
    "x = df.drop([\"median_house_value\", \"ocean_proximity\"] , axis=1)\n",
    "y = df[\"median_house_value\"]\n"
   ]
  },
  {
   "cell_type": "code",
   "execution_count": 19,
   "id": "ba922fb2",
   "metadata": {},
   "outputs": [
    {
     "data": {
      "text/plain": [
       "<statsmodels.regression.linear_model.OLS at 0x28ba472e1f0>"
      ]
     },
     "execution_count": 19,
     "metadata": {},
     "output_type": "execute_result"
    }
   ],
   "source": [
    "model= sm.OLS(y,x) \n",
    "model"
   ]
  },
  {
   "cell_type": "raw",
   "id": "366bbee8",
   "metadata": {},
   "source": [
    "OLS it estimates the unknown paramater in a linear regression model "
   ]
  },
  {
   "cell_type": "code",
   "execution_count": 18,
   "id": "36b77d18",
   "metadata": {},
   "outputs": [
    {
     "data": {
      "text/plain": [
       "<statsmodels.regression.linear_model.RegressionResultsWrapper at 0x28be2db9640>"
      ]
     },
     "execution_count": 18,
     "metadata": {},
     "output_type": "execute_result"
    }
   ],
   "source": [
    "fit = model.fit()\n",
    "fit"
   ]
  },
  {
   "cell_type": "raw",
   "id": "bf077ba5",
   "metadata": {},
   "source": [
    "this is used for the training of a model using data examples."
   ]
  },
  {
   "cell_type": "code",
   "execution_count": 8,
   "id": "bc8b7637",
   "metadata": {},
   "outputs": [
    {
     "data": {
      "text/plain": [
       "longitude              8.725207e-79\n",
       "latitude              2.773418e-110\n",
       "housing_median_age    2.858106e-267\n",
       "total_rooms            3.065393e-59\n",
       "total_bedrooms         3.217624e-22\n",
       "population            1.444931e-211\n",
       "households             1.228648e-50\n",
       "median_income          0.000000e+00\n",
       "dtype: float64"
      ]
     },
     "execution_count": 8,
     "metadata": {},
     "output_type": "execute_result"
    }
   ],
   "source": [
    "fit.pvalues "
   ]
  },
  {
   "cell_type": "raw",
   "id": "959a527e",
   "metadata": {},
   "source": [
    "p-value measures the probability that a sample mean would be a certain value or more, given the population mean and standard deviation."
   ]
  },
  {
   "cell_type": "code",
   "execution_count": 9,
   "id": "b43bc62f",
   "metadata": {},
   "outputs": [],
   "source": [
    "# lets do the knn"
   ]
  },
  {
   "cell_type": "code",
   "execution_count": 10,
   "id": "d1812338",
   "metadata": {},
   "outputs": [
    {
     "data": {
      "text/html": [
       "<table class=\"simpletable\">\n",
       "<caption>OLS Regression Results</caption>\n",
       "<tr>\n",
       "  <th>Dep. Variable:</th>    <td>median_house_value</td> <th>  R-squared (uncentered):</th>       <td>   0.900</td>  \n",
       "</tr>\n",
       "<tr>\n",
       "  <th>Model:</th>                    <td>OLS</td>        <th>  Adj. R-squared (uncentered):</th>  <td>   0.900</td>  \n",
       "</tr>\n",
       "<tr>\n",
       "  <th>Method:</th>              <td>Least Squares</td>   <th>  F-statistic:       </th>           <td>1.846e+04</td> \n",
       "</tr>\n",
       "<tr>\n",
       "  <th>Date:</th>              <td>Fri, 24 Sep 2021</td>  <th>  Prob (F-statistic):</th>            <td>  0.00</td>   \n",
       "</tr>\n",
       "<tr>\n",
       "  <th>Time:</th>                  <td>09:36:44</td>      <th>  Log-Likelihood:    </th>          <td>-2.0647e+05</td>\n",
       "</tr>\n",
       "<tr>\n",
       "  <th>No. Observations:</th>       <td> 16336</td>       <th>  AIC:               </th>           <td>4.130e+05</td> \n",
       "</tr>\n",
       "<tr>\n",
       "  <th>Df Residuals:</th>           <td> 16328</td>       <th>  BIC:               </th>           <td>4.130e+05</td> \n",
       "</tr>\n",
       "<tr>\n",
       "  <th>Df Model:</th>               <td>     8</td>       <th>                     </th>               <td> </td>     \n",
       "</tr>\n",
       "<tr>\n",
       "  <th>Covariance Type:</th>       <td>nonrobust</td>     <th>                     </th>               <td> </td>     \n",
       "</tr>\n",
       "</table>\n",
       "<table class=\"simpletable\">\n",
       "<tr>\n",
       "           <td></td>             <th>coef</th>     <th>std err</th>      <th>t</th>      <th>P>|t|</th>  <th>[0.025</th>    <th>0.975]</th>  \n",
       "</tr>\n",
       "<tr>\n",
       "  <th>longitude</th>          <td>-2279.8792</td> <td>  120.662</td> <td>  -18.895</td> <td> 0.000</td> <td>-2516.391</td> <td>-2043.368</td>\n",
       "</tr>\n",
       "<tr>\n",
       "  <th>latitude</th>           <td>-8588.0456</td> <td>  381.956</td> <td>  -22.484</td> <td> 0.000</td> <td>-9336.722</td> <td>-7839.369</td>\n",
       "</tr>\n",
       "<tr>\n",
       "  <th>housing_median_age</th> <td> 1789.3864</td> <td>   50.277</td> <td>   35.591</td> <td> 0.000</td> <td> 1690.838</td> <td> 1887.935</td>\n",
       "</tr>\n",
       "<tr>\n",
       "  <th>total_rooms</th>        <td>  -15.3018</td> <td>    0.939</td> <td>  -16.297</td> <td> 0.000</td> <td>  -17.142</td> <td>  -13.461</td>\n",
       "</tr>\n",
       "<tr>\n",
       "  <th>total_bedrooms</th>     <td>   80.4555</td> <td>    8.288</td> <td>    9.707</td> <td> 0.000</td> <td>   64.210</td> <td>   96.701</td>\n",
       "</tr>\n",
       "<tr>\n",
       "  <th>population</th>         <td>  -39.8627</td> <td>    1.265</td> <td>  -31.507</td> <td> 0.000</td> <td>  -42.343</td> <td>  -37.383</td>\n",
       "</tr>\n",
       "<tr>\n",
       "  <th>households</th>         <td>  132.7581</td> <td>    8.840</td> <td>   15.017</td> <td> 0.000</td> <td>  115.430</td> <td>  150.086</td>\n",
       "</tr>\n",
       "<tr>\n",
       "  <th>median_income</th>      <td>  4.57e+04</td> <td>  391.426</td> <td>  116.747</td> <td> 0.000</td> <td> 4.49e+04</td> <td> 4.65e+04</td>\n",
       "</tr>\n",
       "</table>\n",
       "<table class=\"simpletable\">\n",
       "<tr>\n",
       "  <th>Omnibus:</th>       <td>3470.793</td> <th>  Durbin-Watson:     </th> <td>   1.982</td> \n",
       "</tr>\n",
       "<tr>\n",
       "  <th>Prob(Omnibus):</th>  <td> 0.000</td>  <th>  Jarque-Bera (JB):  </th> <td>12212.006</td>\n",
       "</tr>\n",
       "<tr>\n",
       "  <th>Skew:</th>           <td> 1.049</td>  <th>  Prob(JB):          </th> <td>    0.00</td> \n",
       "</tr>\n",
       "<tr>\n",
       "  <th>Kurtosis:</th>       <td> 6.680</td>  <th>  Cond. No.          </th> <td>3.02e+03</td> \n",
       "</tr>\n",
       "</table><br/><br/>Notes:<br/>[1] R² is computed without centering (uncentered) since the model does not contain a constant.<br/>[2] Standard Errors assume that the covariance matrix of the errors is correctly specified.<br/>[3] The condition number is large, 3.02e+03. This might indicate that there are<br/>strong multicollinearity or other numerical problems."
      ],
      "text/plain": [
       "<class 'statsmodels.iolib.summary.Summary'>\n",
       "\"\"\"\n",
       "                                 OLS Regression Results                                \n",
       "=======================================================================================\n",
       "Dep. Variable:     median_house_value   R-squared (uncentered):                   0.900\n",
       "Model:                            OLS   Adj. R-squared (uncentered):              0.900\n",
       "Method:                 Least Squares   F-statistic:                          1.846e+04\n",
       "Date:                Fri, 24 Sep 2021   Prob (F-statistic):                        0.00\n",
       "Time:                        09:36:44   Log-Likelihood:                     -2.0647e+05\n",
       "No. Observations:               16336   AIC:                                  4.130e+05\n",
       "Df Residuals:                   16328   BIC:                                  4.130e+05\n",
       "Df Model:                           8                                                  \n",
       "Covariance Type:            nonrobust                                                  \n",
       "======================================================================================\n",
       "                         coef    std err          t      P>|t|      [0.025      0.975]\n",
       "--------------------------------------------------------------------------------------\n",
       "longitude          -2279.8792    120.662    -18.895      0.000   -2516.391   -2043.368\n",
       "latitude           -8588.0456    381.956    -22.484      0.000   -9336.722   -7839.369\n",
       "housing_median_age  1789.3864     50.277     35.591      0.000    1690.838    1887.935\n",
       "total_rooms          -15.3018      0.939    -16.297      0.000     -17.142     -13.461\n",
       "total_bedrooms        80.4555      8.288      9.707      0.000      64.210      96.701\n",
       "population           -39.8627      1.265    -31.507      0.000     -42.343     -37.383\n",
       "households           132.7581      8.840     15.017      0.000     115.430     150.086\n",
       "median_income        4.57e+04    391.426    116.747      0.000    4.49e+04    4.65e+04\n",
       "==============================================================================\n",
       "Omnibus:                     3470.793   Durbin-Watson:                   1.982\n",
       "Prob(Omnibus):                  0.000   Jarque-Bera (JB):            12212.006\n",
       "Skew:                           1.049   Prob(JB):                         0.00\n",
       "Kurtosis:                       6.680   Cond. No.                     3.02e+03\n",
       "==============================================================================\n",
       "\n",
       "Notes:\n",
       "[1] R² is computed without centering (uncentered) since the model does not contain a constant.\n",
       "[2] Standard Errors assume that the covariance matrix of the errors is correctly specified.\n",
       "[3] The condition number is large, 3.02e+03. This might indicate that there are\n",
       "strong multicollinearity or other numerical problems.\n",
       "\"\"\""
      ]
     },
     "execution_count": 10,
     "metadata": {},
     "output_type": "execute_result"
    }
   ],
   "source": [
    "fit.summary()"
   ]
  },
  {
   "cell_type": "code",
   "execution_count": 13,
   "id": "43d7dea6",
   "metadata": {},
   "outputs": [],
   "source": [
    "x_train, x_test, y_train, y_test = train_test_split(x, y, \n",
    "                                                    test_size=.3, \n",
    "                         \n",
    "                                                    random_state=0)"
   ]
  },
  {
   "cell_type": "code",
   "execution_count": 14,
   "id": "1968c05c",
   "metadata": {},
   "outputs": [
    {
     "data": {
      "text/plain": [
       "0.5007141399714344"
      ]
     },
     "execution_count": 14,
     "metadata": {},
     "output_type": "execute_result"
    }
   ],
   "source": [
    "model = KNeighborsClassifier(n_neighbors=2)\n",
    "model.fit(x_test , y_test)\n",
    "model.score(x_test , y_test)"
   ]
  },
  {
   "cell_type": "raw",
   "id": "5cbbf391",
   "metadata": {},
   "source": [
    "knn is  a supervised classification approach "
   ]
  },
  {
   "cell_type": "raw",
   "id": "f6f64cf2",
   "metadata": {},
   "source": [
    "the best reuslt is 0.50 i can also get a perfect one if i put one in n_neighbors but i am not sure i am allowed to put a 1"
   ]
  },
  {
   "cell_type": "code",
   "execution_count": null,
   "id": "5615b9b5",
   "metadata": {},
   "outputs": [],
   "source": [
    "model.predict(x)"
   ]
  },
  {
   "cell_type": "raw",
   "id": "f7cefe1a",
   "metadata": {},
   "source": [
    "predict the dataset that is tested "
   ]
  },
  {
   "cell_type": "code",
   "execution_count": 21,
   "id": "cbc298f0",
   "metadata": {},
   "outputs": [],
   "source": [
    "from sklearn.dummy import DummyClassifier"
   ]
  },
  {
   "cell_type": "code",
   "execution_count": 25,
   "id": "e020c990",
   "metadata": {},
   "outputs": [
    {
     "data": {
      "text/plain": [
       "0.048765558049377676"
      ]
     },
     "execution_count": 25,
     "metadata": {},
     "output_type": "execute_result"
    }
   ],
   "source": [
    "dummy_clf = DummyClassifier(strategy=\"most_frequent\")\n",
    "\n",
    "# fit the modem\n",
    "dummy_clf.fit(x_train, y_train)\n",
    "\n",
    "# calculate the score\n",
    "dummy_clf.score(x_test, y_test)"
   ]
  },
  {
   "cell_type": "code",
   "execution_count": null,
   "id": "e7dcc88b",
   "metadata": {},
   "outputs": [],
   "source": []
  }
 ],
 "metadata": {
  "kernelspec": {
   "display_name": "Python 3",
   "language": "python",
   "name": "python3"
  },
  "language_info": {
   "codemirror_mode": {
    "name": "ipython",
    "version": 3
   },
   "file_extension": ".py",
   "mimetype": "text/x-python",
   "name": "python",
   "nbconvert_exporter": "python",
   "pygments_lexer": "ipython3",
   "version": "3.8.8"
  }
 },
 "nbformat": 4,
 "nbformat_minor": 5
}
